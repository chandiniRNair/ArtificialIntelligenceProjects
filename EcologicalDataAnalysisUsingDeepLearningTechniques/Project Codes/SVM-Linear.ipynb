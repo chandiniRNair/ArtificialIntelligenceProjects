{
 "cells": [
  {
   "cell_type": "code",
   "execution_count": 1,
   "metadata": {},
   "outputs": [
    {
     "name": "stderr",
     "output_type": "stream",
     "text": [
      "Using TensorFlow backend.\n",
      "C:\\Users\\hp\\Anaconda3\\lib\\site-packages\\IPython\\core\\interactiveshell.py:2698: DtypeWarning: Columns (1,2,3,4,5,6,7,8,9,10,11,12,13,14,15,16,17,18,19,20,21,22,23,24,25,26,27,28,29,30,31,32,33,34,35,36,37,38,39,40,41,42,43,44,45,46,47,48,49,50,51,52,53,54,55,56,57,58,59,60,61,62,63,64,65,66,67,68,69,70,71,72,73,74,75,76,77,78,79,80,81,82,83,84,85,86,87,88,89,90,91,92,93,94,95,96,97,98,99,100,101,102,103,104,105,106,107,108,109,110,111,112,113,114,115,116,117,118,119,120,121,122,123,124,125,126,127,128,129,130,131,132,133,134,135,136,137,138,139,140,141,142,143,144,145,146,147,148,149,150,151,152,153,154,155,156,157,158,159,160,161,162,163,164,165,166,167,168,169,170,171) have mixed types. Specify dtype option on import or set low_memory=False.\n",
      "  interactivity=interactivity, compiler=compiler, result=result)\n"
     ]
    },
    {
     "name": "stdout",
     "output_type": "stream",
     "text": [
      "[['LF' 0 3.5 ..., 0.0 0.0 0.0]\n",
      " ['FR' 0 3.5 ..., 0.0 0.0 0.0]\n",
      " ['LF' 0 3.5 ..., 0.0 0.0 0.0]\n",
      " ..., \n",
      " ['FR' 1 3.5 ..., 0.0 0.0 0.0]\n",
      " ['LF' 0 3.5 ..., 0.0 0.0 0.0]\n",
      " ['FR' 1 3.5 ..., 0.0 0.0 0.0]]\n",
      "10500 train samples\n",
      "3150 test samples\n",
      "Label encoded values are: [2 1 2 ..., 1 2 1]\n",
      "[2 1 0 ..., 2 2 0]\n",
      "Accuracy value: \n"
     ]
    },
    {
     "data": {
      "text/plain": [
       "0.67206349206349203"
      ]
     },
     "execution_count": 1,
     "metadata": {},
     "output_type": "execute_result"
    }
   ],
   "source": [
    "from __future__ import print_function\n",
    "import numpy as np\n",
    "import pandas\n",
    "from keras.models import Sequential\n",
    "from keras.layers.core import Dense,Activation,Dropout\n",
    "\n",
    "from keras.optimizers import SGD\n",
    "from keras.optimizers import Adam\n",
    "from keras.optimizers import RMSprop\n",
    "from keras.utils import np_utils\n",
    "from sklearn.preprocessing import LabelEncoder\n",
    "from sklearn.utils import shuffle\n",
    "import matplotlib.pyplot as plt\n",
    "from sklearn import datasets\n",
    "from sklearn.multiclass import OneVsRestClassifier\n",
    "from sklearn.svm import LinearSVC\n",
    "from sklearn.preprocessing import LabelEncoder\n",
    "from sklearn import preprocessing\n",
    "from keras.utils.np_utils import to_categorical\n",
    "from sklearn.metrics import accuracy_score\n",
    "from sklearn import svm\n",
    "\n",
    "np.random.seed(1671)\n",
    "NB_EPOCH = 20\n",
    "BATCH_SIZE = 128\n",
    "VERBOSE = 1\n",
    "NB_CLASSES = 3\n",
    "OPTIMIZER = Adam()\n",
    "N_HIDDEN = 128\n",
    "VALIDATION_SPLIT=0.4\n",
    "RESHAPED = 171\n",
    "dataframe_train = pandas.read_csv(\"TrainingEdgesToAction.csv\", header=None)\n",
    "dataset_train_v = dataframe_train.values\n",
    "#dataset_train = shuffle(dataset_train,random_state=0)\n",
    "dataset_train_f = dataset_train_v[1:,0:172]\n",
    "#print(dataset_train_f)\n",
    "dataset_train_n = shuffle(dataset_train_f)\n",
    "print(dataset_train_n)\n",
    "\n",
    "X_train = dataset_train_n[0:,1:172].astype(float)\n",
    "Y_train = dataset_train_n[0:,0]\n",
    "\n",
    "#Y_train = shuffle(Y_test,random_state=0)\n",
    "\n",
    "dataframe_test = pandas.read_csv(\"TestingEdgesToAction.csv\", header=None)\n",
    "dataset_test = dataframe_test.values\n",
    "dataset_test_ft = dataset_test[1:,0:172]\n",
    "dataset_test_nt = shuffle(dataset_test_ft)\n",
    "X_test = dataset_test_nt[0:,1:172].astype(float)\n",
    "Y_test = dataset_test_nt[0:,0]\n",
    "\n",
    "#X_test = dataset_test[1:,1:172].astype(float)\n",
    "#Y_test = dataset_test[1:,0]\n",
    "\n",
    "\n",
    "X_train = X_train.reshape(10500,RESHAPED)\n",
    "X_test = X_test.reshape(3150,RESHAPED)\n",
    "X_train /= 255\n",
    "X_test /= 255\n",
    "\n",
    "\n",
    "\n",
    "\n",
    "print(X_train.shape[0],'train samples')\n",
    "print(X_test.shape[0],'test samples')\n",
    "\n",
    "\n",
    "le = preprocessing.LabelEncoder()\n",
    "le.fit([\"Default\", \"FR\", \"LF\"])\n",
    "LabelEncoder()\n",
    "list(le.classes_)\n",
    "dummy_y_test_o=le.transform(Y_test)\n",
    "dummy_y_train_o=le.transform(Y_train)\n",
    "\n",
    "dummy_y_test=to_categorical(dummy_y_test_o)\n",
    "dummy_y_train=to_categorical(dummy_y_train_o)\n",
    "print(\"Label encoded values are:\",dummy_y_train_o)\n",
    "\n",
    "X, y = X_train,dummy_y_train_o\n",
    "y_score_f=OneVsRestClassifier(svm.SVC(C=10,kernel='linear')).fit(X, y).predict(X_test)\n",
    "print(y_score_f)\n",
    "\n",
    "print(\"Accuracy value: \")\n",
    "accuracy_score(dummy_y_test_o, y_score_f)\n",
    "\n",
    "\n",
    "\n"
   ]
  }
 ],
 "metadata": {
  "kernelspec": {
   "display_name": "Python 3",
   "language": "python",
   "name": "python3"
  },
  "language_info": {
   "codemirror_mode": {
    "name": "ipython",
    "version": 3
   },
   "file_extension": ".py",
   "mimetype": "text/x-python",
   "name": "python",
   "nbconvert_exporter": "python",
   "pygments_lexer": "ipython3",
   "version": "3.6.2"
  }
 },
 "nbformat": 4,
 "nbformat_minor": 2
}
